{
 "cells": [
  {
   "cell_type": "code",
   "execution_count": 1,
   "id": "fcf6106e",
   "metadata": {},
   "outputs": [],
   "source": [
    "import pandas as pd\n",
    "from matplotlib import pyplot as plt\n",
    "import warnings\n",
    "warnings.filterwarnings('ignore')\n",
    "from mlxtend.preprocessing import TransactionEncoder\n",
    "from mlxtend.frequent_patterns import apriori\n",
    "import os"
   ]
  },
  {
   "cell_type": "code",
   "execution_count": 2,
   "id": "7bbaaf92",
   "metadata": {},
   "outputs": [],
   "source": [
    "def merge_vehicle_count(caracteristiques, vehicules):\n",
    "    # Compter le nombre de véhicules par \"Num_Acc\" dans le DataFrame vehicules\n",
    "    vehicules_count = vehicules.groupby(\"Accident_Id\")[\"id_vehicule\"].count().reset_index().rename(columns={'id_vehicule':'Nombre_vehicule'})\n",
    "    \n",
    "    # Fusionner le DataFrame caracteristiques avec le DataFrame vehicules_count en utilisant la colonne \"Num_Acc\"\n",
    "    merged_df = caracteristiques.merge(vehicules_count, on='Accident_Id')\n",
    "    \n",
    "    return merged_df\n",
    "\n",
    "def merge_user_count(caracteristiques,usagers):\n",
    "    # Compter le nombre d'usagers par \"Accident_Id\" et par sexe dans le DataFrame usagers\n",
    "    usagers_count = usagers.groupby([\"Accident_Id\", \"sexe\"])[\"id_vehicule\"].count().unstack(fill_value=0)\n",
    "    usagers_count.rename(columns={1: 'Nombre_Hommes', 2: 'Nombre_Femmes'}, inplace=True)\n",
    "    \n",
    "    # Fusionner le DataFrame caracteristiques avec usagers_count en utilisant la colonne \"Num_Acc\"\n",
    "    merged_df = caracteristiques.merge(usagers_count, on='Accident_Id')\n",
    "    \n",
    "    return merged_df\n",
    "\n",
    "def replace_with_mapper(df, col, mapper):\n",
    "    df[col] = df[col].replace(mapper)\n",
    "    return df\n",
    "\n",
    "# Remplacement des heures par le moment de la journée\n",
    "matinee = ['06:','07:','08:','09:','10:']\n",
    "journee = ['11:','12:','13:','14:','15:','16:','17:']\n",
    "soiree = ['18:','19:','20:','21:','22:','23:']\n",
    "nuit = ['00:','01:','02:','03:','04:','05:']\n",
    "\n",
    "def replace_hour(hour):\n",
    "    hour = hour[:3]\n",
    "    if hour in matinee:\n",
    "        return 'Matinée'\n",
    "    elif hour in journee:\n",
    "        return 'Journée'\n",
    "    elif hour in soiree:\n",
    "        return 'Soirée'\n",
    "    elif hour in nuit:\n",
    "        return 'Nuit'\n",
    "    else:\n",
    "        'Lucas'"
   ]
  },
  {
   "cell_type": "code",
   "execution_count": 3,
   "id": "6108aa4c",
   "metadata": {},
   "outputs": [],
   "source": [
    "years = ['19', '20', '21', '22']\n",
    "files_name = [\"caracteristiques-20\", \"lieux-20\", \"usagers-20\", \"vehicules-20\"]\n",
    "#os.mkdir('./Dataset/all_years/', 0o666) \n",
    "for file_name in files_name:\n",
    "    result = []\n",
    "    for year in years:\n",
    "        file_path = f'./Dataset/{year}/{file_name}{year}.csv'\n",
    "        sep = ';'\n",
    "        df = pd.read_csv(file_path, sep=sep, low_memory=False)\n",
    "        # if 'id_usager' in df.columns:\n",
    "        #     df = df.drop(columns=['id_usager'])\n",
    "        result.append(df)\n",
    "    combined_df = pd.concat(result, ignore_index=True)\n",
    "    combined_df.to_csv(f'./Dataset/all_years/{file_name}{years[0]}-{years[-1]}.csv', index=False)"
   ]
  },
  {
   "cell_type": "code",
   "execution_count": 4,
   "id": "cd80b8a1",
   "metadata": {},
   "outputs": [],
   "source": [
    "caracteristiques = pd.read_csv('./Dataset/all_years/caracteristiques-2019-22.csv')"
   ]
  },
  {
   "cell_type": "code",
   "execution_count": 6,
   "id": "db61bb96",
   "metadata": {},
   "outputs": [
    {
     "data": {
      "text/html": [
       "<div>\n",
       "<style scoped>\n",
       "    .dataframe tbody tr th:only-of-type {\n",
       "        vertical-align: middle;\n",
       "    }\n",
       "\n",
       "    .dataframe tbody tr th {\n",
       "        vertical-align: top;\n",
       "    }\n",
       "\n",
       "    .dataframe thead th {\n",
       "        text-align: right;\n",
       "    }\n",
       "</style>\n",
       "<table border=\"1\" class=\"dataframe\">\n",
       "  <thead>\n",
       "    <tr style=\"text-align: right;\">\n",
       "      <th></th>\n",
       "      <th>Accident_Id</th>\n",
       "      <th>jour</th>\n",
       "      <th>mois</th>\n",
       "      <th>an</th>\n",
       "      <th>hrmn</th>\n",
       "      <th>lum</th>\n",
       "      <th>dep</th>\n",
       "      <th>com</th>\n",
       "      <th>agg</th>\n",
       "      <th>int</th>\n",
       "      <th>atm</th>\n",
       "      <th>col</th>\n",
       "      <th>adr</th>\n",
       "      <th>lat</th>\n",
       "      <th>long</th>\n",
       "    </tr>\n",
       "  </thead>\n",
       "  <tbody>\n",
       "    <tr>\n",
       "      <th>0</th>\n",
       "      <td>201900000001</td>\n",
       "      <td>30</td>\n",
       "      <td>Novembre</td>\n",
       "      <td>2019</td>\n",
       "      <td>01:30</td>\n",
       "      <td>4</td>\n",
       "      <td>93</td>\n",
       "      <td>93053</td>\n",
       "      <td>1</td>\n",
       "      <td>1</td>\n",
       "      <td>1</td>\n",
       "      <td>2</td>\n",
       "      <td>AUTOROUTE A3</td>\n",
       "      <td>48,8962100</td>\n",
       "      <td>2,4701200</td>\n",
       "    </tr>\n",
       "    <tr>\n",
       "      <th>1</th>\n",
       "      <td>201900000002</td>\n",
       "      <td>30</td>\n",
       "      <td>Novembre</td>\n",
       "      <td>2019</td>\n",
       "      <td>02:50</td>\n",
       "      <td>3</td>\n",
       "      <td>93</td>\n",
       "      <td>93066</td>\n",
       "      <td>1</td>\n",
       "      <td>1</td>\n",
       "      <td>1</td>\n",
       "      <td>6</td>\n",
       "      <td>AUTOROUTE A1</td>\n",
       "      <td>48,9307000</td>\n",
       "      <td>2,3688000</td>\n",
       "    </tr>\n",
       "    <tr>\n",
       "      <th>2</th>\n",
       "      <td>201900000003</td>\n",
       "      <td>28</td>\n",
       "      <td>Novembre</td>\n",
       "      <td>2019</td>\n",
       "      <td>15:15</td>\n",
       "      <td>1</td>\n",
       "      <td>92</td>\n",
       "      <td>92036</td>\n",
       "      <td>1</td>\n",
       "      <td>1</td>\n",
       "      <td>1</td>\n",
       "      <td>4</td>\n",
       "      <td>AUTOROUTE A86</td>\n",
       "      <td>48,9358718</td>\n",
       "      <td>2,3191744</td>\n",
       "    </tr>\n",
       "  </tbody>\n",
       "</table>\n",
       "</div>"
      ],
      "text/plain": [
       "    Accident_Id  jour      mois    an   hrmn  lum dep    com  agg  int  atm  \\\n",
       "0  201900000001    30  Novembre  2019  01:30    4  93  93053    1    1    1   \n",
       "1  201900000002    30  Novembre  2019  02:50    3  93  93066    1    1    1   \n",
       "2  201900000003    28  Novembre  2019  15:15    1  92  92036    1    1    1   \n",
       "\n",
       "   col            adr         lat       long  \n",
       "0    2   AUTOROUTE A3  48,8962100  2,4701200  \n",
       "1    6   AUTOROUTE A1  48,9307000  2,3688000  \n",
       "2    4  AUTOROUTE A86  48,9358718  2,3191744  "
      ]
     },
     "execution_count": 6,
     "metadata": {},
     "output_type": "execute_result"
    }
   ],
   "source": [
    "# Remplacer les numéros des mois par leur noms\n",
    "month_mapper = {\n",
    "    1:'Janvier',\n",
    "    2:'Février',\n",
    "    3:'Mars',\n",
    "    4:'Avril',\n",
    "    5:'Mai',\n",
    "    6:'Juin',\n",
    "    7:'Juillet',\n",
    "    8:'Août',\n",
    "    9:'Septembre',\n",
    "    10:'Octobre',\n",
    "    11:'Novembre',\n",
    "    12:'Décembre'\n",
    "}\n",
    "\n",
    "caracteristiques = replace_with_mapper(caracteristiques, 'mois', month_mapper)\n",
    "\n",
    "caracteristiques.head(3)"
   ]
  },
  {
   "cell_type": "code",
   "execution_count": null,
   "id": "d2d679ea",
   "metadata": {},
   "outputs": [],
   "source": [
    "# Remplacer les heure par le moment de la journée\n",
    "caracteristiques.hrmn = caracteristiques.hrmn.apply(replace_hour)\n",
    "\n",
    "caracteristiques.head(3)"
   ]
  },
  {
   "cell_type": "code",
   "execution_count": null,
   "id": "4f188924",
   "metadata": {},
   "outputs": [],
   "source": [
    "departements = pd.read_csv('./Dataset/departements-france.csv')"
   ]
  },
  {
   "cell_type": "code",
   "execution_count": 7,
   "id": "ac75f00e",
   "metadata": {},
   "outputs": [
    {
     "ename": "NameError",
     "evalue": "name 'departements' is not defined",
     "output_type": "error",
     "traceback": [
      "\u001b[0;31m---------------------------------------------------------------------------\u001b[0m",
      "\u001b[0;31mNameError\u001b[0m                                 Traceback (most recent call last)",
      "Cell \u001b[0;32mIn[7], line 2\u001b[0m\n\u001b[1;32m      1\u001b[0m \u001b[38;5;66;03m# Remplacer les numéros de départements par leur noms\u001b[39;00m\n\u001b[0;32m----> 2\u001b[0m departements_mapper \u001b[38;5;241m=\u001b[39m departements\u001b[38;5;241m.\u001b[39mset_index(\u001b[38;5;124m'\u001b[39m\u001b[38;5;124mcode_departement\u001b[39m\u001b[38;5;124m'\u001b[39m)[\u001b[38;5;124m'\u001b[39m\u001b[38;5;124mnom_departement\u001b[39m\u001b[38;5;124m'\u001b[39m]\u001b[38;5;241m.\u001b[39mto_dict()\n\u001b[1;32m      3\u001b[0m caracteristiques \u001b[38;5;241m=\u001b[39m replace_with_mapper(caracteristiques, \u001b[38;5;124m'\u001b[39m\u001b[38;5;124mdep\u001b[39m\u001b[38;5;124m'\u001b[39m, departements_mapper)\n\u001b[1;32m      5\u001b[0m caracteristiques\u001b[38;5;241m.\u001b[39mhead(\u001b[38;5;241m3\u001b[39m)\n",
      "\u001b[0;31mNameError\u001b[0m: name 'departements' is not defined"
     ]
    }
   ],
   "source": [
    "# Remplacer les numéros de départements par leur noms\n",
    "departements_mapper = departements.set_index('code_departement')['nom_departement'].to_dict()\n",
    "caracteristiques = replace_with_mapper(caracteristiques, 'dep', departements_mapper)\n",
    "\n",
    "caracteristiques.head(3)"
   ]
  },
  {
   "cell_type": "code",
   "execution_count": 10,
   "id": "0d25754b",
   "metadata": {},
   "outputs": [],
   "source": [
    "usagers = pd.read_csv('./Dataset/all_years/usagers-2019-22.csv')"
   ]
  },
  {
   "cell_type": "code",
   "execution_count": null,
   "id": "528f0322",
   "metadata": {},
   "outputs": [],
   "source": []
  }
 ],
 "metadata": {
  "kernelspec": {
   "display_name": "Python 3 (ipykernel)",
   "language": "python",
   "name": "python3"
  },
  "language_info": {
   "codemirror_mode": {
    "name": "ipython",
    "version": 3
   },
   "file_extension": ".py",
   "mimetype": "text/x-python",
   "name": "python",
   "nbconvert_exporter": "python",
   "pygments_lexer": "ipython3",
   "version": "3.11.5"
  }
 },
 "nbformat": 4,
 "nbformat_minor": 5
}
