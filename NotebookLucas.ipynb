{
 "cells": [
  {
   "cell_type": "code",
   "execution_count": null,
   "id": "fcf6106e",
   "metadata": {},
   "outputs": [],
   "source": [
    "import pandas as pd\n",
    "from matplotlib import pyplot as plt\n",
    "import warnings\n",
    "warnings.filterwarnings('ignore')\n",
    "from mlxtend.preprocessing import TransactionEncoder\n",
    "from mlxtend.frequent_patterns import apriori\n",
    "import os"
   ]
  },
  {
   "cell_type": "code",
   "execution_count": null,
   "id": "7bbaaf92",
   "metadata": {},
   "outputs": [],
   "source": [
    "def merge_vehicle_count(caracteristiques, vehicules):\n",
    "    # Compter le nombre de véhicules par \"Num_Acc\" dans le DataFrame vehicules\n",
    "    vehicules_count = vehicules.groupby(\"Accident_Id\")[\"id_vehicule\"].count().reset_index().rename(columns={'id_vehicule':'Nombre_vehicule'})\n",
    "    \n",
    "    # Fusionner le DataFrame caracteristiques avec le DataFrame vehicules_count en utilisant la colonne \"Num_Acc\"\n",
    "    merged_df = caracteristiques.merge(vehicules_count, on='Accident_Id')\n",
    "    \n",
    "    return merged_df\n",
    "\n",
    "def merge_user_count(caracteristiques,usagers):\n",
    "    # Compter le nombre d'usagers par \"Accident_Id\" et par sexe dans le DataFrame usagers\n",
    "    usagers_count = usagers.groupby([\"Accident_Id\", \"sexe\"])[\"id_vehicule\"].count().unstack(fill_value=0)\n",
    "    usagers_count.rename(columns={1: 'Nombre_Hommes', 2: 'Nombre_Femmes'}, inplace=True)\n",
    "    \n",
    "    # Fusionner le DataFrame caracteristiques avec usagers_count en utilisant la colonne \"Num_Acc\"\n",
    "    merged_df = caracteristiques.merge(usagers_count, on='Accident_Id')\n",
    "    \n",
    "    return merged_df\n",
    "\n",
    "def replace_with_mapper(df, col, mapper):\n",
    "    df[col] = df[col].replace(mapper)\n",
    "    return df\n",
    "\n",
    "# Remplacement des heures par le moment de la journée\n",
    "matinee = ['06:','07:','08:','09:','10:']\n",
    "journee = ['11:','12:','13:','14:','15:','16:','17:']\n",
    "soiree = ['18:','19:','20:','21:','22:','23:']\n",
    "nuit = ['00:','01:','02:','03:','04:','05:']\n",
    "\n",
    "def replace_hour(hour):\n",
    "    hour = hour[:3]\n",
    "    if hour in matinee:\n",
    "        return 'Matinée'\n",
    "    elif hour in journee:\n",
    "        return 'Journée'\n",
    "    elif hour in soiree:\n",
    "        return 'Soirée'\n",
    "    elif hour in nuit:\n",
    "        return 'Nuit'\n",
    "    else:\n",
    "        'Lucas'"
   ]
  },
  {
   "cell_type": "code",
   "execution_count": null,
   "id": "6108aa4c",
   "metadata": {},
   "outputs": [],
   "source": [
    "years = ['19', '20', '21', '22']\n",
    "files_name = [\"caracteristiques-20\", \"lieux-20\", \"usagers-20\", \"vehicules-20\"]\n",
    "#os.mkdir('./Dataset/all_years/', 0o666) \n",
    "for file_name in files_name:\n",
    "    result = []\n",
    "    for year in years:\n",
    "        file_path = f'./Dataset/{year}/{file_name}{year}.csv'\n",
    "        sep = ';'\n",
    "        df = pd.read_csv(file_path, sep=sep, low_memory=False)\n",
    "        # if 'id_usager' in df.columns:\n",
    "        #     df = df.drop(columns=['id_usager'])\n",
    "        result.append(df)\n",
    "    combined_df = pd.concat(result, ignore_index=True)\n",
    "    combined_df.to_csv(f'./Dataset/all_years/{file_name}{years[0]}-{years[-1]}.csv', index=False)"
   ]
  },
  {
   "cell_type": "code",
   "execution_count": null,
   "id": "cd80b8a1",
   "metadata": {},
   "outputs": [],
   "source": [
    "caracteristiques = pd.read_csv('./Dataset/all_years/caracteristiques-2019-22.csv')"
   ]
  },
  {
   "cell_type": "code",
   "execution_count": null,
   "id": "db61bb96",
   "metadata": {},
   "outputs": [],
   "source": [
    "# Remplacer les numéros des mois par leur noms\n",
    "month_mapper = {\n",
    "    1:'Janvier',\n",
    "    2:'Février',\n",
    "    3:'Mars',\n",
    "    4:'Avril',\n",
    "    5:'Mai',\n",
    "    6:'Juin',\n",
    "    7:'Juillet',\n",
    "    8:'Août',\n",
    "    9:'Septembre',\n",
    "    10:'Octobre',\n",
    "    11:'Novembre',\n",
    "    12:'Décembre'\n",
    "}\n",
    "\n",
    "caracteristiques = replace_with_mapper(caracteristiques, 'mois', month_mapper)\n",
    "\n",
    "caracteristiques.head(3)"
   ]
  },
  {
   "cell_type": "code",
   "execution_count": null,
   "id": "d2d679ea",
   "metadata": {},
   "outputs": [],
   "source": [
    "# Remplacer les heure par le moment de la journée\n",
    "caracteristiques.hrmn = caracteristiques.hrmn.apply(replace_hour)\n",
    "\n",
    "caracteristiques.head(3)"
   ]
  },
  {
   "cell_type": "code",
   "execution_count": null,
   "id": "4f188924",
   "metadata": {},
   "outputs": [],
   "source": [
    "departements = pd.read_csv('./Dataset/departements-france.csv')"
   ]
  },
  {
   "cell_type": "code",
   "execution_count": null,
   "id": "ac75f00e",
   "metadata": {},
   "outputs": [],
   "source": [
    "# Remplacer les numéros de départements par leur noms\n",
    "departements_mapper = departements.set_index('code_departement')['nom_departement'].to_dict()\n",
    "caracteristiques = replace_with_mapper(caracteristiques, 'dep', departements_mapper)\n",
    "\n",
    "caracteristiques.head(3)"
   ]
  },
  {
   "cell_type": "code",
   "execution_count": null,
   "id": "6ef7fc69",
   "metadata": {},
   "outputs": [],
   "source": [
    "usagers = pd.read_csv('./Dataset/all_years/usagers-2019-22.csv')"
   ]
  },
  {
   "cell_type": "code",
   "execution_count": null,
   "id": "c1efa424",
   "metadata": {},
   "outputs": [],
   "source": [
    "usagers.head(3)"
   ]
  },
  {
   "cell_type": "code",
   "execution_count": null,
   "id": "c7794cbe",
   "metadata": {},
   "outputs": [],
   "source": [
    "usagers['an'] = usagers['Accident_Id'].map(caracteristiques.set_index('Accident_Id')['an'])\n",
    "usagers['age_category'] = pd.cut(\n",
    "    usagers['an'] - usagers['an_nais'],\n",
    "    bins=[0, 18, 59, float('inf')],\n",
    "    labels=[\"jeune\", \"adulte\", \"senior\"],\n",
    "    right=True\n",
    ")\n",
    "\n",
    "number_of_people = usagers.groupby(by='Accident_Id')['age_category'].value_counts().unstack().fillna(0)\n",
    "number_of_people.reset_index(inplace=True)\n",
    "\n",
    "caracteristiques = caracteristiques.merge(number_of_people, on='Accident_Id', how='right')\n",
    "\n",
    "# Clean\n",
    "usagers.drop(columns=['an'])\n",
    "usagers.drop(columns=['age_category'])"
   ]
  },
  {
   "cell_type": "code",
   "execution_count": null,
   "id": "2b5d3d7e",
   "metadata": {},
   "outputs": [],
   "source": [
    "caracteristiques.head(15)"
   ]
  }
 ],
 "metadata": {
  "kernelspec": {
   "display_name": "Python 3 (ipykernel)",
   "language": "python",
   "name": "python3"
  },
  "language_info": {
   "codemirror_mode": {
    "name": "ipython",
    "version": 3
   },
   "file_extension": ".py",
   "mimetype": "text/x-python",
   "name": "python",
   "nbconvert_exporter": "python",
   "pygments_lexer": "ipython3",
   "version": "3.11.5"
  }
 },
 "nbformat": 4,
 "nbformat_minor": 5
}
